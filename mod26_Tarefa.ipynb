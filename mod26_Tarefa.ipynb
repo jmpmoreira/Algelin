{
 "cells": [
  {
   "cell_type": "markdown",
   "metadata": {},
   "source": [
    "# Tarefa - Álgebra Linear\n",
    "\n",
    "A célula abaixo gera dados de notas de duas provas, p1 e p2, conforme em aula, mas com mais alunos.\n",
    "\n",
    "## 1. Reduzindo correlações\n",
    "\n",
    "a) Já vimos que expressar os dados através da média e diferença é uma transformação linear. Obtenha a média e a diferença através de uma multiplicação matricial, conforme visto em aula.\n",
    "\n",
    "b) Calcule a correlação entre os dados da **p1** e **p2**\n",
    "\n",
    "c) Calcule a correlação entre os dados transformados (média e diferença)\n",
    "\n",
    "d) Comente as correlações observadas."
   ]
  },
  {
   "cell_type": "code",
   "execution_count": 1,
   "metadata": {},
   "outputs": [],
   "source": [
    "import pandas as pd\n",
    "import seaborn as sns\n",
    "import numpy as np\n",
    "import matplotlib.pyplot as plt\n",
    "\n",
    "%matplotlib inline\n",
    "\n",
    "# Gerando os dados\n",
    "np.random.seed(123)\n",
    "\n",
    "p1 = np.random.random(50) *10\n",
    "p1[p1>10] = 10\n",
    "p1[p1<0] = 0\n",
    "\n",
    "p2 = p1 + np.random.normal(0,1,50)\n",
    "p2[p2>10] = 10\n",
    "p2[p2<0] = 0\n",
    "\n",
    "df = pd.DataFrame({'p1': p1, 'p2': p2})"
   ]
  },
  {
   "cell_type": "code",
   "execution_count": 5,
   "metadata": {},
   "outputs": [
    {
     "data": {
      "text/html": [
       "<style type=\"text/css\">\n",
       "</style>\n",
       "<table id=\"T_7acb7\">\n",
       "  <thead>\n",
       "    <tr>\n",
       "      <th class=\"blank level0\" >&nbsp;</th>\n",
       "      <th id=\"T_7acb7_level0_col0\" class=\"col_heading level0 col0\" >p1</th>\n",
       "      <th id=\"T_7acb7_level0_col1\" class=\"col_heading level0 col1\" >p2</th>\n",
       "      <th id=\"T_7acb7_level0_col2\" class=\"col_heading level0 col2\" >média</th>\n",
       "      <th id=\"T_7acb7_level0_col3\" class=\"col_heading level0 col3\" >evolução</th>\n",
       "    </tr>\n",
       "  </thead>\n",
       "  <tbody>\n",
       "    <tr>\n",
       "      <th id=\"T_7acb7_level0_row0\" class=\"row_heading level0 row0\" >0</th>\n",
       "      <td id=\"T_7acb7_row0_col0\" class=\"data row0 col0\" >7,0</td>\n",
       "      <td id=\"T_7acb7_row0_col1\" class=\"data row0 col1\" >7,9</td>\n",
       "      <td id=\"T_7acb7_row0_col2\" class=\"data row0 col2\" >5,3</td>\n",
       "      <td id=\"T_7acb7_row0_col3\" class=\"data row0 col3\" >1,0</td>\n",
       "    </tr>\n",
       "    <tr>\n",
       "      <th id=\"T_7acb7_level0_row1\" class=\"row_heading level0 row1\" >1</th>\n",
       "      <td id=\"T_7acb7_row1_col0\" class=\"data row1 col0\" >2,9</td>\n",
       "      <td id=\"T_7acb7_row1_col1\" class=\"data row1 col1\" >5,1</td>\n",
       "      <td id=\"T_7acb7_row1_col2\" class=\"data row1 col2\" >3,4</td>\n",
       "      <td id=\"T_7acb7_row1_col3\" class=\"data row1 col3\" >2,2</td>\n",
       "    </tr>\n",
       "    <tr>\n",
       "      <th id=\"T_7acb7_level0_row2\" class=\"row_heading level0 row2\" >2</th>\n",
       "      <td id=\"T_7acb7_row2_col0\" class=\"data row2 col0\" >2,3</td>\n",
       "      <td id=\"T_7acb7_row2_col1\" class=\"data row2 col1\" >1,0</td>\n",
       "      <td id=\"T_7acb7_row2_col2\" class=\"data row2 col2\" >0,7</td>\n",
       "      <td id=\"T_7acb7_row2_col3\" class=\"data row2 col3\" >-1,3</td>\n",
       "    </tr>\n",
       "    <tr>\n",
       "      <th id=\"T_7acb7_level0_row3\" class=\"row_heading level0 row3\" >3</th>\n",
       "      <td id=\"T_7acb7_row3_col0\" class=\"data row3 col0\" >5,5</td>\n",
       "      <td id=\"T_7acb7_row3_col1\" class=\"data row3 col1\" >4,5</td>\n",
       "      <td id=\"T_7acb7_row3_col2\" class=\"data row3 col2\" >3,0</td>\n",
       "      <td id=\"T_7acb7_row3_col3\" class=\"data row3 col3\" >-1,0</td>\n",
       "    </tr>\n",
       "    <tr>\n",
       "      <th id=\"T_7acb7_level0_row4\" class=\"row_heading level0 row4\" >4</th>\n",
       "      <td id=\"T_7acb7_row4_col0\" class=\"data row4 col0\" >7,2</td>\n",
       "      <td id=\"T_7acb7_row4_col1\" class=\"data row4 col1\" >8,9</td>\n",
       "      <td id=\"T_7acb7_row4_col2\" class=\"data row4 col2\" >6,0</td>\n",
       "      <td id=\"T_7acb7_row4_col3\" class=\"data row4 col3\" >1,7</td>\n",
       "    </tr>\n",
       "  </tbody>\n",
       "</table>\n"
      ],
      "text/plain": [
       "<pandas.io.formats.style.Styler at 0x2500d59f5e0>"
      ]
     },
     "execution_count": 5,
     "metadata": {},
     "output_type": "execute_result"
    }
   ],
   "source": [
    "df['média'] = df.mean(axis=1)\n",
    "df['evolução'] = df.p2 - df.p1\n",
    "df_sample = df.head()  \n",
    "df_sample.style.format(precision=1, decimal=',')\n",
    "\n"
   ]
  },
  {
   "cell_type": "code",
   "execution_count": 6,
   "metadata": {},
   "outputs": [
    {
     "data": {
      "text/plain": [
       "0.8957365818728046"
      ]
     },
     "execution_count": 6,
     "metadata": {},
     "output_type": "execute_result"
    }
   ],
   "source": [
    "corr = np.corrcoef(df.p1,df.p2)\n",
    "corr[0,1]"
   ]
  },
  {
   "cell_type": "code",
   "execution_count": 7,
   "metadata": {},
   "outputs": [
    {
     "data": {
      "text/plain": [
       "0.3450913713308441"
      ]
     },
     "execution_count": 7,
     "metadata": {},
     "output_type": "execute_result"
    }
   ],
   "source": [
    "corr = np.corrcoef(df.média,df.evolução)\n",
    "corr[0,1]"
   ]
  },
  {
   "cell_type": "markdown",
   "metadata": {},
   "source": [
    "## 2. Soma e diferença\n",
    "\n",
    "Realize agora uma transformação semelhante, mas que ao invés da média, dê a soma da **p1** e **p2**. Construa o gráfico e conclua que diferenças visuais você observa."
   ]
  },
  {
   "cell_type": "code",
   "execution_count": 11,
   "metadata": {},
   "outputs": [
    {
     "data": {
      "text/html": [
       "<style type=\"text/css\">\n",
       "</style>\n",
       "<table id=\"T_b0d43\">\n",
       "  <thead>\n",
       "    <tr>\n",
       "      <th class=\"blank level0\" >&nbsp;</th>\n",
       "      <th id=\"T_b0d43_level0_col0\" class=\"col_heading level0 col0\" >p1</th>\n",
       "      <th id=\"T_b0d43_level0_col1\" class=\"col_heading level0 col1\" >p2</th>\n",
       "      <th id=\"T_b0d43_level0_col2\" class=\"col_heading level0 col2\" >média</th>\n",
       "      <th id=\"T_b0d43_level0_col3\" class=\"col_heading level0 col3\" >evolução</th>\n",
       "      <th id=\"T_b0d43_level0_col4\" class=\"col_heading level0 col4\" >soma</th>\n",
       "    </tr>\n",
       "  </thead>\n",
       "  <tbody>\n",
       "    <tr>\n",
       "      <th id=\"T_b0d43_level0_row0\" class=\"row_heading level0 row0\" >0</th>\n",
       "      <td id=\"T_b0d43_row0_col0\" class=\"data row0 col0\" >7,0</td>\n",
       "      <td id=\"T_b0d43_row0_col1\" class=\"data row0 col1\" >7,9</td>\n",
       "      <td id=\"T_b0d43_row0_col2\" class=\"data row0 col2\" >5,3</td>\n",
       "      <td id=\"T_b0d43_row0_col3\" class=\"data row0 col3\" >1,0</td>\n",
       "      <td id=\"T_b0d43_row0_col4\" class=\"data row0 col4\" >14,9</td>\n",
       "    </tr>\n",
       "    <tr>\n",
       "      <th id=\"T_b0d43_level0_row1\" class=\"row_heading level0 row1\" >1</th>\n",
       "      <td id=\"T_b0d43_row1_col0\" class=\"data row1 col0\" >2,9</td>\n",
       "      <td id=\"T_b0d43_row1_col1\" class=\"data row1 col1\" >5,1</td>\n",
       "      <td id=\"T_b0d43_row1_col2\" class=\"data row1 col2\" >3,4</td>\n",
       "      <td id=\"T_b0d43_row1_col3\" class=\"data row1 col3\" >2,2</td>\n",
       "      <td id=\"T_b0d43_row1_col4\" class=\"data row1 col4\" >8,0</td>\n",
       "    </tr>\n",
       "    <tr>\n",
       "      <th id=\"T_b0d43_level0_row2\" class=\"row_heading level0 row2\" >2</th>\n",
       "      <td id=\"T_b0d43_row2_col0\" class=\"data row2 col0\" >2,3</td>\n",
       "      <td id=\"T_b0d43_row2_col1\" class=\"data row2 col1\" >1,0</td>\n",
       "      <td id=\"T_b0d43_row2_col2\" class=\"data row2 col2\" >0,7</td>\n",
       "      <td id=\"T_b0d43_row2_col3\" class=\"data row2 col3\" >-1,3</td>\n",
       "      <td id=\"T_b0d43_row2_col4\" class=\"data row2 col4\" >3,2</td>\n",
       "    </tr>\n",
       "    <tr>\n",
       "      <th id=\"T_b0d43_level0_row3\" class=\"row_heading level0 row3\" >3</th>\n",
       "      <td id=\"T_b0d43_row3_col0\" class=\"data row3 col0\" >5,5</td>\n",
       "      <td id=\"T_b0d43_row3_col1\" class=\"data row3 col1\" >4,5</td>\n",
       "      <td id=\"T_b0d43_row3_col2\" class=\"data row3 col2\" >3,0</td>\n",
       "      <td id=\"T_b0d43_row3_col3\" class=\"data row3 col3\" >-1,0</td>\n",
       "      <td id=\"T_b0d43_row3_col4\" class=\"data row3 col4\" >10,0</td>\n",
       "    </tr>\n",
       "    <tr>\n",
       "      <th id=\"T_b0d43_level0_row4\" class=\"row_heading level0 row4\" >4</th>\n",
       "      <td id=\"T_b0d43_row4_col0\" class=\"data row4 col0\" >7,2</td>\n",
       "      <td id=\"T_b0d43_row4_col1\" class=\"data row4 col1\" >8,9</td>\n",
       "      <td id=\"T_b0d43_row4_col2\" class=\"data row4 col2\" >6,0</td>\n",
       "      <td id=\"T_b0d43_row4_col3\" class=\"data row4 col3\" >1,7</td>\n",
       "      <td id=\"T_b0d43_row4_col4\" class=\"data row4 col4\" >16,1</td>\n",
       "    </tr>\n",
       "  </tbody>\n",
       "</table>\n"
      ],
      "text/plain": [
       "<pandas.io.formats.style.Styler at 0x25012b72d90>"
      ]
     },
     "execution_count": 11,
     "metadata": {},
     "output_type": "execute_result"
    }
   ],
   "source": [
    "df['soma'] = df.p2 + df.p1\n",
    "df_with_soma = df.head(5) \n",
    "df_with_soma.style.format(precision=1, decimal=',')\n"
   ]
  },
  {
   "cell_type": "code",
   "execution_count": 12,
   "metadata": {},
   "outputs": [
    {
     "data": {
      "text/plain": [
       "<matplotlib.legend.Legend at 0x25013f2c490>"
      ]
     },
     "execution_count": 12,
     "metadata": {},
     "output_type": "execute_result"
    },
    {
     "data": {
      "image/png": "[encoded data removed]",
      "text/plain": [
       "<Figure size 720x720 with 1 Axes>"
      ]
     },
     "metadata": {
      "needs_background": "light"
     },
     "output_type": "display_data"
    }
   ],
   "source": [
    "#Melhor figura que explica o problema\n",
    "#Definindo figura e configurando eixos\n",
    "fig = plt.figure(figsize=(10, 10))\n",
    "ax = fig.add_subplot(1,1,1)\n",
    "\n",
    "xmin = -5\n",
    "xmax = 20\n",
    "ymin = -5\n",
    "ymax = 5\n",
    "\n",
    "# ax.axis('equal')\n",
    "ax.set_aspect('equal', 'box')\n",
    "ax.set(xlim=(xmin, xmax), ylim=(ymin, ymax))\n",
    "\n",
    "lista_xticks = list(range(int(xmin), int(xmax)+1))\n",
    "ticksx = ax.set_xticks(lista_xticks)\n",
    "labelsx = ax.set_xticklabels(lista_xticks, fontsize='large')\n",
    "\n",
    "lista_yticks = list(range(int(ymin), int(ymax)+1))\n",
    "ticksy = ax.set_yticks(lista_yticks)\n",
    "labelsy = ax.set_yticklabels(lista_yticks, fontsize='large')\n",
    "\n",
    "#linhas horizontais e verticais de referência\n",
    "ax.axvline(0, linewidth=.5, linestyle='-')\n",
    "ax.axhline(0, linewidth=.5, linestyle='-')\n",
    "\n",
    "# Plotar a média\n",
    "plt.scatter(df['média'], df['evolução'], label='média')\n",
    "\n",
    "# Plotar a soma\n",
    "plt.scatter(df['soma'], df['evolução'], label='soma')\n",
    "\n",
    "#Legenda\n",
    "plt.legend()"
   ]
  },
  {
   "cell_type": "code",
   "execution_count": 13,
   "metadata": {},
   "outputs": [
    {
     "data": {
      "text/plain": [
       "0.13347385411788837"
      ]
     },
     "execution_count": 13,
     "metadata": {},
     "output_type": "execute_result"
    }
   ],
   "source": [
    "corr = np.corrcoef(df.soma,df.evolução)\n",
    "corr[0,1]"
   ]
  },
  {
   "cell_type": "code",
   "execution_count": 16,
   "metadata": {},
   "outputs": [],
   "source": [
    "#Neste caso, a plotagem vertical é menos adequada para responder a pergunta\n",
    "def translin_v2(m):\n",
    "    fig = plt.figure(figsize=(10, 10))\n",
    "    ax = fig.add_subplot(1,1,1)\n",
    "\n",
    "    xmin = -2\n",
    "    xmax = df.p1.max()*1.1\n",
    "    ymin = -2\n",
    "    ymax = df.p2.max()*1.1\n",
    "\n",
    "    ax.axis('equal')\n",
    "    ax.set_aspect('equal', 'box')\n",
    "    ax.set(xlim=(xmin, xmax), ylim=(ymin, ymax))\n",
    "\n",
    "    lista_xticks = list(range(int(xmin), int(xmax)+1))\n",
    "    ticksx = ax.set_xticks(lista_xticks)\n",
    "    labelsx = ax.set_xticklabels(lista_xticks, fontsize='large')\n",
    "\n",
    "    lista_yticks = list(range(int(ymin), int(ymax)+1))\n",
    "    ticksy = ax.set_yticks(lista_yticks)\n",
    "    labelsy = ax.set_yticklabels(lista_yticks, fontsize='large')\n",
    "\n",
    "    ax.axvline(0, linewidth=.5, linestyle='--')\n",
    "    ax.axhline(0, linewidth=.5, linestyle='--')\n",
    "\n",
    "    ax.arrow(0, 0, m[0,0], m[0,1] #a diferença para o 1 codigo é q aqui ta plotando o vetor deitado\n",
    "             , head_width=0.25\n",
    "             , head_length=0.1\n",
    "             , fc='g', ec='g', \n",
    "             length_includes_head=True)\n",
    "\n",
    "    ax.arrow(0, 0, m[1,0], m[1,1]\n",
    "             , head_width=0.25\n",
    "             , head_length=0.1\n",
    "             , fc='r', ec='r', \n",
    "             length_includes_head=True)\n",
    "\n",
    "    plt.scatter(x = df.p1, y=df.p2, label = 'média')\n",
    "    plt.scatter(x = df['média'], y=df['soma'], label = 'soma')\n",
    "\n",
    "    ax.legend(loc='upper left')"
   ]
  },
  {
   "cell_type": "code",
   "execution_count": 17,
   "metadata": {},
   "outputs": [
    {
     "data": {
      "image/png": "[encoded data removed]",
      "text/plain": [
       "<Figure size 720x720 with 1 Axes>"
      ]
     },
     "metadata": {
      "needs_background": "light"
     },
     "output_type": "display_data"
    }
   ],
   "source": [
    "t = np.array([[ .5, .5],\n",
    "              [ -1, 1]])\n",
    "translin_v2(t)"
   ]
  },
  {
   "cell_type": "markdown",
   "metadata": {},
   "source": [
    "O gráfico da soma pode ser visualizado como um \"esticamento\" do gráfico da média, uma vez que a soma é, neste exemplo, o dobro da média. Devido a essa relação, a distribuição dos pontos nos dois gráficos torna-se semelhante. Essa semelhança é evidenciada pela escolha da mesma cor para ambos os gráficos, indicando uma conexão visual entre eles."
   ]
  },
  {
   "cell_type": "code",
   "execution_count": null,
   "metadata": {},
   "outputs": [],
   "source": []
  }
 ],
 "metadata": {
  "kernelspec": {
   "display_name": "Python 3 (ipykernel)",
   "language": "python",
   "name": "python3"
  },
  "language_info": {
   "codemirror_mode": {
    "name": "ipython",
    "version": 3
   },
   "file_extension": ".py",
   "mimetype": "text/x-python",
   "name": "python",
   "nbconvert_exporter": "python",
   "pygments_lexer": "ipython3",
   "version": "3.9.12"
  },
  "toc": {
   "base_numbering": 1,
   "nav_menu": {},
   "number_sections": false,
   "sideBar": true,
   "skip_h1_title": false,
   "title_cell": "Índice",
   "title_sidebar": "Conteúdo",
   "toc_cell": false,
   "toc_position": {
    "height": "calc(100% - 180px)",
    "left": "10px",
    "top": "150px",
    "width": "257.6px"
   },
   "toc_section_display": true,
   "toc_window_display": false
  },
  "varInspector": {
   "cols": {
    "lenName": 16,
    "lenType": 16,
    "lenVar": 40
   },
   "kernels_config": {
    "python": {
     "delete_cmd_postfix": "",
     "delete_cmd_prefix": "del ",
     "library": "var_list.py",
     "varRefreshCmd": "print(var_dic_list())"
    },
    "r": {
     "delete_cmd_postfix": ") ",
     "delete_cmd_prefix": "rm(",
     "library": "var_list.r",
     "varRefreshCmd": "cat(var_dic_list()) "
    }
   },
   "types_to_exclude": [
    "module",
    "function",
    "builtin_function_or_method",
    "instance",
    "_Feature"
   ],
   "window_display": false
  }
 },
 "nbformat": 4,
 "nbformat_minor": 4
}
